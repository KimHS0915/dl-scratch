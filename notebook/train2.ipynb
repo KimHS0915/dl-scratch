{
 "cells": [
  {
   "cell_type": "code",
   "execution_count": 1,
   "metadata": {},
   "outputs": [],
   "source": [
    "import sys\n",
    "import os\n",
    "import numpy as np\n",
    "import matplotlib.pyplot as plt\n",
    "\n",
    "sys.path.append(os.path.join(os.pardir, \"my_lib\"))\n",
    "sys.path.append(os.pardir)"
   ]
  },
  {
   "cell_type": "code",
   "execution_count": 2,
   "metadata": {},
   "outputs": [],
   "source": [
    "from utils import softmax, cross_entropy_error, numerical_gradient, sigmoid\n",
    "from dataset.mnist import load_mnist"
   ]
  },
  {
   "cell_type": "code",
   "execution_count": 3,
   "metadata": {},
   "outputs": [],
   "source": [
    "class simpleNet:    \n",
    "    def __init__(self):\n",
    "        self.W = np.random.randn(2, 3)\n",
    "    \n",
    "    def predict(self, x):\n",
    "        return np.dot(x, self.W)\n",
    "\n",
    "    def loss(self, x, t):\n",
    "        z = self.predict(x)\n",
    "        y = softmax(z)\n",
    "        loss = cross_entropy_error(y, t)\n",
    "    \n",
    "        return loss"
   ]
  },
  {
   "cell_type": "code",
   "execution_count": 4,
   "metadata": {},
   "outputs": [
    {
     "name": "stdout",
     "output_type": "stream",
     "text": [
      "Weight :\n",
      " [[-0.25598878 -0.3011204   1.09098519]\n",
      " [-0.67852713  0.91358687 -1.35167827]]\n",
      "Predict : [-0.76426769  0.64155594 -0.56191933]\n",
      "Index of max value : 1\n",
      "Loss : 1.6387021075664976\n"
     ]
    }
   ],
   "source": [
    "net = simpleNet()\n",
    "print(\"Weight :\\n\", net.W)\n",
    "\n",
    "x = np.array([0.6, 0.9])\n",
    "p = net.predict(x)\n",
    "print(\"Predict :\", p)\n",
    "print(\"Index of max value :\", np.argmax(p))\n",
    "\n",
    "t = np.array([0, 0, 1])\n",
    "print(\"Loss :\", net.loss(x, t))"
   ]
  },
  {
   "cell_type": "code",
   "execution_count": 5,
   "metadata": {},
   "outputs": [
    {
     "name": "stdout",
     "output_type": "stream",
     "text": [
      "[[ 0.09519031  0.38827032 -0.48346063]\n",
      " [ 0.14278547  0.58240548 -0.72519094]]\n"
     ]
    }
   ],
   "source": [
    "dW = numerical_gradient(lambda w: net.loss(x, t), net.W)\n",
    "print(dW)"
   ]
  },
  {
   "cell_type": "code",
   "execution_count": 6,
   "metadata": {},
   "outputs": [],
   "source": [
    "class TwoLayerNet:\n",
    "    def __init__(self, input_size, hidden_size, \n",
    "                 output_size, weight_init_std=0.01):\n",
    "        self.params = {}\n",
    "        self.params[\"w1\"] = weight_init_std * np.random.randn(input_size, hidden_size)\n",
    "        self.params[\"b1\"] = np.zeros(hidden_size)\n",
    "        self.params[\"w2\"] = weight_init_std * np.random.randn(hidden_size, output_size)\n",
    "        self.params[\"b2\"] = np.zeros(output_size)\n",
    "        \n",
    "    def predict(self, x):\n",
    "        w1, w2 = self.params[\"w1\"], self.params[\"w2\"]\n",
    "        b1, b2 = self.params[\"b1\"], self.params[\"b2\"]\n",
    "        a1 = np.dot(x, w1) + b1\n",
    "        z1 = sigmoid(a1)\n",
    "        a2 = np.dot(z1, w2) + b2\n",
    "        y = softmax(a2)\n",
    "        return y\n",
    "    \n",
    "    def loss(self, x, t):\n",
    "        y = self.predict(x)\n",
    "        return cross_entropy_error(y, t)\n",
    "        \n",
    "    def accuracy(self, x, t):\n",
    "        y = self.predict(x)\n",
    "        y = np.argmax(y, axis=1)\n",
    "        t = np.argmax(t, axis=1)    \n",
    "        accuracy = np.sum(y == t) / float(x.shape[0])\n",
    "        return accuracy\n",
    "    \n",
    "    def numerical_gradient(self, x, t):\n",
    "        loss_w = lambda w: self.loss(x, t)\n",
    "        grads = {}\n",
    "        grads[\"w1\"] = numerical_gradient(loss_w, self.params[\"w1\"])\n",
    "        grads[\"b1\"] = numerical_gradient(loss_w, self.params[\"b1\"])\n",
    "        grads[\"w2\"] = numerical_gradient(loss_w, self.params[\"w2\"])\n",
    "        grads[\"b2\"] = numerical_gradient(loss_w, self.params[\"b2\"])\n",
    "        return grads"
   ]
  },
  {
   "cell_type": "code",
   "execution_count": 7,
   "metadata": {},
   "outputs": [
    {
     "name": "stdout",
     "output_type": "stream",
     "text": [
      "(784, 100)\n",
      "(100,)\n",
      "(100, 10)\n",
      "(10,)\n"
     ]
    }
   ],
   "source": [
    "net = TwoLayerNet(input_size=784, hidden_size=100, output_size=10)\n",
    "print(net.params[\"w1\"].shape)\n",
    "print(net.params[\"b1\"].shape)\n",
    "print(net.params[\"w2\"].shape)\n",
    "print(net.params[\"b2\"].shape)"
   ]
  },
  {
   "cell_type": "code",
   "execution_count": 8,
   "metadata": {},
   "outputs": [],
   "source": [
    "(x_train, y_train), (x_test, y_test) = load_mnist(normalize=True, \n",
    "                                                  one_hot_label=True)"
   ]
  },
  {
   "cell_type": "code",
   "execution_count": null,
   "metadata": {},
   "outputs": [
    {
     "name": "stdout",
     "output_type": "stream",
     "text": [
      "train_acc : 0.10441666666666667, test_acc: 0.1028\n",
      "train_acc : 0.7745833333333333, test_acc: 0.7849\n",
      "train_acc : 0.88095, test_acc: 0.8856\n"
     ]
    }
   ],
   "source": [
    "net = TwoLayerNet(784, 50, 10)\n",
    "\n",
    "train_loss_list = []\n",
    "train_acc_list = []\n",
    "test_acc_list = []\n",
    "\n",
    "# Hyper parameters\n",
    "iters_num = 3000\n",
    "train_size = x_train.shape[0]\n",
    "batch_size = 100\n",
    "learning_rate = 0.1\n",
    "\n",
    "iter_per_epoch = max(train_size / batch_size, 1)\n",
    "\n",
    "for i in range(iters_num):\n",
    "    batch_mask = np.random.choice(train_size, batch_size)\n",
    "    x_batch = x_train[batch_mask]\n",
    "    y_batch = y_train[batch_mask]\n",
    "    \n",
    "    grad = net.numerical_gradient(x_batch, y_batch)\n",
    "    \n",
    "    for key in (\"w1\", \"b1\", \"w2\", \"b2\"):\n",
    "        net.params[key] -= learning_rate * grad[key]\n",
    "    \n",
    "    loss = net.loss(x_batch, y_batch)\n",
    "    train_loss_list.append(loss)\n",
    "    \n",
    "    if i % iter_per_epoch == 0 or iter_per_epoch == iters_num - 1:\n",
    "        train_acc = net.accuracy(x_train, y_train)\n",
    "        test_acc = net.accuracy(x_test, y_test)\n",
    "        train_acc_list.append(train_acc)\n",
    "        test_acc_list.append(test_acc)\n",
    "        print(f\"train_acc : {train_acc}, test_acc: {test_acc}\")\n",
    "print(\"Done.\")"
   ]
  },
  {
   "cell_type": "code",
   "execution_count": null,
   "metadata": {},
   "outputs": [],
   "source": []
  }
 ],
 "metadata": {
  "kernelspec": {
   "display_name": "Python 3",
   "language": "python",
   "name": "python3"
  },
  "language_info": {
   "codemirror_mode": {
    "name": "ipython",
    "version": 3
   },
   "file_extension": ".py",
   "mimetype": "text/x-python",
   "name": "python",
   "nbconvert_exporter": "python",
   "pygments_lexer": "ipython3",
   "version": "3.7.0"
  }
 },
 "nbformat": 4,
 "nbformat_minor": 4
}
