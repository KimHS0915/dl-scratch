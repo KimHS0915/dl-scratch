{
 "cells": [
  {
   "cell_type": "code",
   "execution_count": 1,
   "metadata": {},
   "outputs": [],
   "source": [
    "import sys\n",
    "import os\n",
    "import numpy as np\n",
    "sys.path.append(os.pardir)\n",
    "from dataset.mnist import load_mnist\n",
    "from my_lib.net import DeepConvNet\n",
    "from my_lib.trainer import Trainer"
   ]
  },
  {
   "cell_type": "code",
   "execution_count": 2,
   "metadata": {},
   "outputs": [],
   "source": [
    "(x_train, y_train), (x_test, y_test) = load_mnist(flatten=False)\n",
    "\n",
    "x_train, y_train = x_train[:15000], y_train[:15000]\n",
    "x_test, y_test = x_test[:3000], y_test[:3000]"
   ]
  },
  {
   "cell_type": "code",
   "execution_count": 3,
   "metadata": {},
   "outputs": [],
   "source": [
    "net = DeepConvNet()  \n",
    "\n",
    "epochs = 20\n",
    "batch_size = 100\n",
    "\n",
    "trainer = Trainer(net, x_train, y_train, x_test, y_test,\n",
    "                  epochs=epochs, batch_size=batch_size, optimizer='Adam', optimizer_param={'lr':0.001},\n",
    "                  eval_sample_num_per_epoch=1000, verbose=1)"
   ]
  },
  {
   "cell_type": "code",
   "execution_count": 4,
   "metadata": {},
   "outputs": [
    {
     "name": "stdout",
     "output_type": "stream",
     "text": [
      "Epoch : 1, train acc : 0.13000, test acc : 0.13600\n",
      "Epoch : 2, train acc : 0.92600, test acc : 0.90600\n",
      "Epoch : 3, train acc : 0.96000, test acc : 0.95500\n",
      "Epoch : 4, train acc : 0.97300, test acc : 0.96400\n",
      "Epoch : 5, train acc : 0.97100, test acc : 0.97300\n",
      "Epoch : 6, train acc : 0.98100, test acc : 0.97200\n",
      "Epoch : 7, train acc : 0.98400, test acc : 0.97800\n",
      "Epoch : 8, train acc : 0.98800, test acc : 0.98300\n",
      "Epoch : 9, train acc : 0.98700, test acc : 0.98500\n",
      "Epoch : 10, train acc : 0.98900, test acc : 0.98400\n",
      "Epoch : 11, train acc : 0.99000, test acc : 0.98200\n",
      "Epoch : 12, train acc : 0.99300, test acc : 0.98700\n",
      "Epoch : 13, train acc : 0.99200, test acc : 0.98100\n",
      "Epoch : 14, train acc : 0.99700, test acc : 0.98800\n",
      "Epoch : 15, train acc : 0.99400, test acc : 0.98700\n",
      "Epoch : 16, train acc : 0.99600, test acc : 0.98000\n",
      "Epoch : 17, train acc : 0.99300, test acc : 0.98600\n",
      "Epoch : 18, train acc : 0.99300, test acc : 0.98100\n",
      "Epoch : 19, train acc : 0.99800, test acc : 0.98300\n",
      "Epoch : 20, train acc : 0.99800, test acc : 0.98500\n",
      "Final Test Accuracy\n",
      "\ttest acc : 0.98467\n"
     ]
    }
   ],
   "source": [
    "trainer.train()"
   ]
  },
  {
   "cell_type": "code",
   "execution_count": 5,
   "metadata": {},
   "outputs": [
    {
     "name": "stdout",
     "output_type": "stream",
     "text": [
      "Save network parameters\n"
     ]
    }
   ],
   "source": [
    "net.save_params('deep_conv_params.pkl')"
   ]
  },
  {
   "cell_type": "code",
   "execution_count": null,
   "metadata": {},
   "outputs": [],
   "source": []
  }
 ],
 "metadata": {
  "kernelspec": {
   "display_name": "Python 3",
   "language": "python",
   "name": "python3"
  },
  "language_info": {
   "codemirror_mode": {
    "name": "ipython",
    "version": 3
   },
   "file_extension": ".py",
   "mimetype": "text/x-python",
   "name": "python",
   "nbconvert_exporter": "python",
   "pygments_lexer": "ipython3",
   "version": "3.7.0"
  }
 },
 "nbformat": 4,
 "nbformat_minor": 4
}
